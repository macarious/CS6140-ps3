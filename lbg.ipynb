{
 "cells": [
  {
   "cell_type": "markdown",
   "metadata": {},
   "source": [
    "References: https://github.com/internaut/py-lbg/tree/master"
   ]
  },
  {
   "cell_type": "code",
   "execution_count": 354,
   "metadata": {},
   "outputs": [
    {
     "data": {
      "text/plain": [
       "[(16.180993393300497, 8.787093524738466),\n",
       " (14.573339901295478, 8.314527600460693),\n",
       " (13.179911312916225, 11.821857000094035),\n",
       " (14.998310474078599, 9.417055967216713),\n",
       " (13.32317533087731, 10.398409160022709),\n",
       " (12.518770763277459, 10.870396122673096),\n",
       " (16.004451353072145, 8.96293462406083),\n",
       " (11.795340981448643, 10.606419863193173),\n",
       " (13.657750749917353, 12.122506049531637),\n",
       " (13.616511881944916, 10.267516403963374),\n",
       " (-3.3680106563674603, -10.633936226629766),\n",
       " (-2.504106782740814, -10.967412452753488),\n",
       " (-2.010646628527666, -9.63495380877942),\n",
       " (-2.673506710387695, -10.196094685402171),\n",
       " (-4.097330434599741, -7.843066627840166),\n",
       " (-2.7085869845134205, -8.436326808916121),\n",
       " (-2.99001386896639, -7.031722461025417),\n",
       " (-2.819636718401788, -10.673134792817862),\n",
       " (-2.4086276698120104, -9.21803087242382),\n",
       " (-5.498286740258759, -9.759234217342753),\n",
       " (1.431187875928362, -3.0014694618666544),\n",
       " (0.11155344643135295, -5.015258717030624),\n",
       " (0.9422824040517697, -4.948462447822141),\n",
       " (1.775667517154798, -4.10890204858012),\n",
       " (-0.47383014872985185, -4.370300421977094),\n",
       " (-0.3598999583206748, -4.3633518144677055),\n",
       " (-0.28539524905972957, -4.181643025350479),\n",
       " (0.6899585539808522, -3.2057454291865817),\n",
       " (-0.6592544197832788, -4.754172441549399),\n",
       " (0.021836345442888483, -3.7388889091918682),\n",
       " (11.449672933119905, -9.91147248571234),\n",
       " (13.055970912084652, -8.757684975195223),\n",
       " (13.168932423021499, -9.21974597424964),\n",
       " (10.387771910277328, -8.118925911627876),\n",
       " (11.129268448086012, -8.639069279374132),\n",
       " (12.086838752630808, -9.66952507056647),\n",
       " (12.407001291195929, -8.685463953941555),\n",
       " (12.603543215916407, -8.276205573022176),\n",
       " (9.952887009568105, -7.418376258451791),\n",
       " (13.582114568905396, -7.919937939093075),\n",
       " (-0.8246368986249939, 2.9359074910253096),\n",
       " (-1.812650068984086, 2.583955124668109),\n",
       " (-2.2568380412407008, 1.92624990687966),\n",
       " (-0.8651838169121339, 4.955373006905931),\n",
       " (-0.41302620221324327, 3.809069390636256),\n",
       " (-0.6875196382522389, 2.471142098178876),\n",
       " (-0.7508086532803244, 2.9137005572962806),\n",
       " (0.0014337492925213802, 4.565511658054608),\n",
       " (0.31761937073219393, 3.7015274257210904),\n",
       " (0.10763423620480794, 2.673041149402887),\n",
       " (16.22624390141163, -0.02338582422282548),\n",
       " (15.421508711141115, -0.8367846407999375),\n",
       " (15.43955284386379, -0.2701316201551929),\n",
       " (14.40154220502098, 2.2316278904196527),\n",
       " (16.528231555068512, 0.23488471375595113),\n",
       " (16.945021659903908, 0.032434017531988074),\n",
       " (16.81414292416084, 0.6703506286665596),\n",
       " (17.06156576726365, -2.0452413832626077),\n",
       " (17.366799341282505, 0.3377017152626933),\n",
       " (16.947890908426544, 0.6494230052326498),\n",
       " (-8.463490171210227, 11.650965795899928),\n",
       " (-9.09809510375548, 10.741662266221743),\n",
       " (-9.009873073507888, 10.225691979565383),\n",
       " (-6.3251355180974524, 11.998178523892499),\n",
       " (-8.431651982621801, 11.127230946151764),\n",
       " (-8.946717940624572, 8.335895080309523),\n",
       " (-8.195357301233425, 9.933545975540556),\n",
       " (-9.944244691999334, 7.92730250606395),\n",
       " (-7.323524020095611, 10.767860756201163),\n",
       " (-8.209908225974871, 9.476391700775132),\n",
       " (4.728939107842532, -8.631944968242246),\n",
       " (4.155111757046365, -9.759941231082673),\n",
       " (3.7239347487157293, -9.797599708406166),\n",
       " (3.6533438801841083, -10.48127763124231),\n",
       " (4.380777930852299, -9.108890587890494),\n",
       " (5.132601834563295, -10.627492104005967),\n",
       " (4.587885928975592, -10.038539545573016),\n",
       " (4.686881421428098, -10.883296337093444),\n",
       " (5.51358968746537, -9.749774641853499),\n",
       " (4.888081058751871, -7.510491523475051)]"
      ]
     },
     "execution_count": 354,
     "metadata": {},
     "output_type": "execute_result"
    }
   ],
   "source": [
    "import random\n",
    "\n",
    "# Dummy data from lbg_test.ipynb to check the algorithm\n",
    "NUM_AREAS = 8\n",
    "NUM_POINTS_PER_AREA = 10\n",
    "SIZE_CODEBOOK = 8\n",
    "AREA_MIN_MAX = ((-20, 20), (-20, 20))\n",
    "\n",
    "random.seed(0)\n",
    "\n",
    "# create random centroids for NUM_AREAS areas\n",
    "area_centroids = [(random.uniform(*AREA_MIN_MAX[0]), random.uniform(*AREA_MIN_MAX[1]))\n",
    "                  for _ in range(NUM_AREAS)]\n",
    "\n",
    "# create whole population\n",
    "population = []\n",
    "for c in area_centroids:\n",
    "    # create random points around the centroid c\n",
    "    area_points = [(random.gauss(c[0], 1.0), random.gauss(c[1], 1.0)) for _ in range(NUM_POINTS_PER_AREA)]\n",
    "    population.extend(area_points)\n",
    "\n",
    "N = len(population)  # Number of data points\n",
    "data = population # 2D data points\n",
    "size_codebook = 8 # Size of codebook\n",
    "\n",
    "# LBG algorithm parameters\n",
    "epsilon = 0.001 # Error threshold\n",
    "\n",
    "data"
   ]
  },
  {
   "cell_type": "markdown",
   "metadata": {},
   "source": [
    "# 1. Initialization\n",
    "Choose an initial codebook with a certain number of codewords."
   ]
  },
  {
   "cell_type": "code",
   "execution_count": 355,
   "metadata": {},
   "outputs": [],
   "source": [
    "# Helper functions\n",
    "# Function to calculate squared Euclidean distance between two vectors\n",
    "def euclid_squared(a, b):\n",
    "    return sum((x_a - x_b) ** 2 for x_a, x_b in zip(a, b))\n",
    "\n",
    "# Function to create a new codevector based on c but moved by factor e\n",
    "def new_codevector(c, e):\n",
    "    return [x * (1.0 + e) for x in c]"
   ]
  },
  {
   "cell_type": "code",
   "execution_count": 356,
   "metadata": {},
   "outputs": [],
   "source": [
    "_size_data = len(data)\n",
    "_dim = len(data[0])\n",
    "\n",
    "# Initialize Codebook\n",
    "codebook = []\n",
    "codebook_abs_weights = [_size_data]\n",
    "codebook_rel_weights = [1.0]"
   ]
  },
  {
   "cell_type": "code",
   "execution_count": 357,
   "metadata": {},
   "outputs": [
    {
     "data": {
      "text/plain": [
       "[[4.365744799505313, -1.0252245651659817]]"
      ]
     },
     "execution_count": 357,
     "metadata": {},
     "output_type": "execute_result"
    }
   ],
   "source": [
    "# Calculate initial codevector: average vector of the whole input data\n",
    "c0 = [sum(vec[i] for vec in data) / _size_data for i in range(_dim)]\n",
    "codebook.append(c0)\n",
    "codebook"
   ]
  },
  {
   "cell_type": "code",
   "execution_count": 358,
   "metadata": {},
   "outputs": [
    {
     "data": {
      "text/plain": [
       "131.83187684846615"
      ]
     },
     "execution_count": 358,
     "metadata": {},
     "output_type": "execute_result"
    }
   ],
   "source": [
    "# Calculate the initial average distortion\n",
    "avg_dist = sum(euclid_squared(c0, vec) for vec in data) / _size_data\n",
    "avg_dist"
   ]
  },
  {
   "cell_type": "markdown",
   "metadata": {},
   "source": [
    "# 2. Splitting and Merging\n",
    "Splitting: for each codeword, create two new codewords by slightly perturbing the existing one\n",
    "Merging: pair up existing codewords based on similarity (Euclidean distance)\n",
    "\n",
    "# 3. Quantization\n",
    "Assign each input vector to the nearest codeword in the codebook\n",
    "\n",
    "# 4. Update Codebook\n",
    "Recalculate the codewords based on assigned vectors. Repeat."
   ]
  },
  {
   "cell_type": "code",
   "execution_count": 359,
   "metadata": {},
   "outputs": [
    {
     "name": "stdout",
     "output_type": "stream",
     "text": [
      "--------------------------------------------------------------------------------\n",
      "Codebook:\n",
      "--------------------------------------------------------------------------------\n",
      "[13.984855614212865, 10.156871631595472]\n",
      "[16.315249981754352, 0.09808785024289311]\n",
      "[11.982400146480604, -8.661640742123428]\n",
      "[4.545114735582526, -9.658924827886485]\n",
      "[-8.394799802912065, 10.218472553062165]\n",
      "[-0.7183975963278197, 3.2535477808769]\n",
      "[-3.107875319457574, -9.439391295393097]\n",
      "[0.31941063670964887, -4.168819471702267]\n",
      "\n",
      "--------------------------------------------------------------------------------\n",
      "Codebook weights:\n",
      "--------------------------------------------------------------------------------\n",
      "[10, 10, 10, 10, 10, 10, 10, 10]\n",
      "[0.125, 0.125, 0.125, 0.125, 0.125, 0.125, 0.125, 0.125]\n",
      "\n",
      "--------------------------------------------------------------------------------\n",
      "Distortion:\n",
      "--------------------------------------------------------------------------------\n",
      "1.9772335644195933\n"
     ]
    }
   ],
   "source": [
    "from functools import reduce\n",
    "from collections import defaultdict\n",
    "\n",
    "# Split codevectors until we have enough\n",
    "while len(codebook) < size_codebook:\n",
    "    new_codevectors = []\n",
    "    for c in codebook:\n",
    "        c1 = new_codevector(c, epsilon)\n",
    "        c2 = new_codevector(c, -epsilon)\n",
    "        new_codevectors.extend((c1, c2))\n",
    "\n",
    "    codebook = new_codevectors\n",
    "    len_codebook = len(codebook)\n",
    "    abs_weights = [0] * len_codebook\n",
    "    rel_weights = [0.0] * len_codebook\n",
    "\n",
    "    avg_dist = 0\n",
    "    err = epsilon + 1\n",
    "    num_iter = 0\n",
    "    initial_avg_dist = 0  # Initialize initial_avg_dist before the while loop\n",
    "    while err > epsilon:\n",
    "        closest_c_list = [None] * _size_data\n",
    "        vecs_near_c = defaultdict(list)\n",
    "        vec_idxs_near_c = defaultdict(list)\n",
    "        for i, vec in enumerate(data):\n",
    "            min_dist = None\n",
    "            closest_c_index = None\n",
    "            for i_c, c in enumerate(codebook):\n",
    "                d = euclid_squared(vec, c)\n",
    "                if min_dist is None or d < min_dist:\n",
    "                    min_dist = d\n",
    "                    closest_c_list[i] = c\n",
    "                    closest_c_index = i_c\n",
    "            vecs_near_c[closest_c_index].append(vec)\n",
    "            vec_idxs_near_c[closest_c_index].append(i)\n",
    "\n",
    "        for i_c in range(len_codebook):\n",
    "            vecs = vecs_near_c.get(i_c) or []\n",
    "            num_vecs_near_c = len(vecs)\n",
    "            if num_vecs_near_c > 0:\n",
    "                new_c = [sum(vec[i] for vec in vecs) / num_vecs_near_c for i in range(_dim)]\n",
    "                codebook[i_c] = new_c\n",
    "                for i in vec_idxs_near_c[i_c]:\n",
    "                    closest_c_list[i] = new_c\n",
    "\n",
    "                abs_weights[i_c] = num_vecs_near_c\n",
    "                rel_weights[i_c] = num_vecs_near_c / _size_data\n",
    "\n",
    "        prev_avg_dist = avg_dist if avg_dist > 0 else initial_avg_dist\n",
    "        avg_dist = sum(euclid_squared(c_i, data[i]) for i, c_i in enumerate(closest_c_list)) / _size_data\n",
    "\n",
    "        # Check if prev_avg_dist is not zero before performing the division\n",
    "        err = (prev_avg_dist - avg_dist) / prev_avg_dist if prev_avg_dist != 0 else 1.0\n",
    "        num_iter += 1\n",
    "\n",
    "# Print the codebook\n",
    "print(\"-\" * 80)\n",
    "print(\"Codebook:\")\n",
    "print(\"-\" * 80)\n",
    "for vector in codebook:\n",
    "    print(vector)\n",
    "print()\n",
    "\n",
    "# Print the codebook weights\n",
    "print(\"-\" * 80)\n",
    "print(\"Codebook weights:\")\n",
    "print(\"-\" * 80)\n",
    "print(abs_weights)\n",
    "print(rel_weights)\n",
    "print()\n",
    "\n",
    "# Print the distortion\n",
    "print(\"-\" * 80)\n",
    "print(\"Distortion:\")\n",
    "print(\"-\" * 80)\n",
    "print(avg_dist)"
   ]
  },
  {
   "cell_type": "markdown",
   "metadata": {},
   "source": [
    "\n"
   ]
  },
  {
   "cell_type": "code",
   "execution_count": 360,
   "metadata": {},
   "outputs": [
    {
     "data": {
      "image/png": "[encoded data removed]",
      "text/plain": [
       "<Figure size 640x480 with 1 Axes>"
      ]
     },
     "metadata": {},
     "output_type": "display_data"
    }
   ],
   "source": [
    "import matplotlib.pyplot as plt\n",
    "\n",
    "plt.scatter([vector[0] for vector in data], [vector[1] for vector in data], marker='x', c='b')\n",
    "plt.scatter([vector[0] for vector in codebook], [vector[1] for vector in codebook], s=[((w+1) ** 5) * 2 for w in codebook_rel_weights], marker='o', c='r')\n",
    "plt.show()"
   ]
  }
 ],
 "metadata": {
  "kernelspec": {
   "display_name": "Python 3",
   "language": "python",
   "name": "python3"
  },
  "language_info": {
   "codemirror_mode": {
    "name": "ipython",
    "version": 3
   },
   "file_extension": ".py",
   "mimetype": "text/x-python",
   "name": "python",
   "nbconvert_exporter": "python",
   "pygments_lexer": "ipython3",
   "version": "3.10.11"
  }
 },
 "nbformat": 4,
 "nbformat_minor": 2
}
